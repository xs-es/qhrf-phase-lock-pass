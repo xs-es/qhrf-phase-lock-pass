from braket.circuits import Circuit, Gate
from braket.aws import AwsDevice
from braket.circuits.noise import Noise

# === Define QHRF-enhanced CX replacement ===
def qhrf_cx_patch(control, target):
    c = Circuit()
    c.h(control)
    c.cnot(control, target)
    c.rz(control, 3.1415 / 4)
    c.cnot(control, target)
    c.rz(control, -3.1415 / 4)
    c.i(control)  # coherence placeholder
    return c

# === Build full 40-qubit QHRF circuit ===
full_circuit = Circuit()
num_qubits = 40

for i in range(0, num_qubits - 1, 2):
    full_circuit.h(i)
    full_circuit.add(qhrf_cx_patch(i, i + 1))
    full_circuit.rz(i, 0.5)
    full_circuit.add(qhrf_cx_patch(i, i + 1))

# Measurement
for i in range(num_qubits):
    full_circuit.measure(i)


# === Target Rigetti Ankaa-3 device ===
device = AwsDevice("arn:aws:braket:us-west-1::device/qpu/rigetti/Ankaa-3")

# === Submit job ===
# Submit circuit
task = device.run(full_circuit, shots=1000, poll_timeout_seconds=3600)

print("Task submitted.")
print("Task ID:", task.id)
print("Waiting for results...")

# Wait and fetch results
result = task.result()
counts = result.measurement_counts

print("\n--- QHRF Circuit Results (Raw Counts) ---")
print(counts)


# Optional histogram
try:
    from braket.analytics import plot_histogram
    plot_histogram(counts)
except ImportError:
    print("Install braket-analytics and matplotlib to see histogram.")
